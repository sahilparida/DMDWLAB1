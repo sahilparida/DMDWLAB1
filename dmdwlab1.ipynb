{
  "nbformat": 4,
  "nbformat_minor": 0,
  "metadata": {
    "colab": {
      "name": "dmdwlab1.ipynb",
      "provenance": [],
      "authorship_tag": "ABX9TyNE57ZzrRP2xhBgPqspRJhT",
      "include_colab_link": true
    },
    "kernelspec": {
      "name": "python3",
      "display_name": "Python 3"
    }
  },
  "cells": [
    {
      "cell_type": "markdown",
      "metadata": {
        "id": "view-in-github",
        "colab_type": "text"
      },
      "source": [
        "<a href=\"https://colab.research.google.com/github/sahilparida/DMDWLAB1/blob/main/dmdwlab1.ipynb\" target=\"_parent\"><img src=\"https://colab.research.google.com/assets/colab-badge.svg\" alt=\"Open In Colab\"/></a>"
      ]
    },
    {
      "cell_type": "code",
      "metadata": {
        "colab": {
          "base_uri": "https://localhost:8080/"
        },
        "id": "hDYor9NV2MPJ",
        "outputId": "50ba1a77-4ad4-4dba-8572-30d3edb660f5"
      },
      "source": [
        "#python program for mean, median, and mode.\n",
        "\n",
        "from collections import Counter\n",
        "data=[float(i) for i in input().split()]\n",
        "n=len(data)\n",
        "mean=sum(data)/n\n",
        "print(\"Mean = \",mean)\n",
        "#calculation of median\n",
        "temp=data.copy()\n",
        "temp=sorted(temp)\n",
        "if n%2!=0:\n",
        "  print(\"Median = \",temp[n//2])\n",
        "else:\n",
        "  median=(temp[n//2]+temp[n//2+1])/2  \n",
        "  print(\"Median = \",median)\n",
        "#calculation of mode\n",
        "  cnt=Counter(data)\n",
        "  maxi=max(cnt.items(),key= lambda x:x[1])[1]\n",
        "  print(maxi)\n",
        "  mode=[]\n",
        "  for each in cnt.items():\n",
        "    if each[1]==maxi:\n",
        "      mode.append(each[0])\n",
        "      print(\"each[0] = \",each[0])\n",
        "    if len(mode)==n:\n",
        "      print(\"Not found\")\n",
        "    else:\n",
        "      print(\"Mode = \",mode)"
      ],
      "execution_count": 1,
      "outputs": [
        {
          "output_type": "stream",
          "text": [
            "34\n",
            "Mean =  34.0\n",
            "Median =  34.0\n"
          ],
          "name": "stdout"
        }
      ]
    },
    {
      "cell_type": "code",
      "metadata": {
        "colab": {
          "base_uri": "https://localhost:8080/"
        },
        "id": "kkyLQ1sE2XJ6",
        "outputId": "07bb00e9-0a44-4fb9-f423-6032c4a75ca0"
      },
      "source": [
        "# python program for standard deviation and variance.\n",
        "data=[float(i) for i in input().split()]\n",
        "n=len(data)\n",
        "mean=sum(data)/n\n",
        "sum1=0\n",
        "for e in data:\n",
        "  sum1+=(e-mean)**2\n",
        "variance=sum1/n\n",
        "print('Variance = ',variance)\n",
        "\n",
        "std=variance**(0.5)\n",
        "print(\"Standard Deviation = \",std)"
      ],
      "execution_count": 2,
      "outputs": [
        {
          "output_type": "stream",
          "text": [
            "23 24 25\n",
            "Variance =  0.6666666666666666\n",
            "Standard Deviation =  0.816496580927726\n"
          ],
          "name": "stdout"
        }
      ]
    },
    {
      "cell_type": "code",
      "metadata": {
        "colab": {
          "base_uri": "https://localhost:8080/"
        },
        "id": "HhEgBWFN2-Bf",
        "outputId": "e318465b-b44c-41d5-80e5-0d6855019ea2"
      },
      "source": [
        "#python programs.\n",
        "# 1.python program to check even or odd.\n",
        "num = int(input(\"Enter a number: \"))\n",
        "if (num % 2) == 0:\n",
        "   print(\"{0} is Even\".format(num))\n",
        "else:\n",
        "   print(\"{0} is Odd\".format(num))"
      ],
      "execution_count": 3,
      "outputs": [
        {
          "output_type": "stream",
          "text": [
            "Enter a number: 3\n",
            "3 is Odd\n"
          ],
          "name": "stdout"
        }
      ]
    },
    {
      "cell_type": "code",
      "metadata": {
        "colab": {
          "base_uri": "https://localhost:8080/"
        },
        "id": "_G-WBQOv3Wgu",
        "outputId": "159a729a-3aaf-4605-cc5a-e9a1e8ecb1a7"
      },
      "source": [
        "# 2. Greatest among three numbers.\n",
        "num1 = int(input(\"Enter ist number: \"))\n",
        "num2 = int(input(\"Enter 2nd number: \"))\n",
        "num3 = int(input(\"Enter 3rd number: \"))\n",
        "\n",
        "if (num1 >= num2) and (num1 >= num3):\n",
        "   largest = num1\n",
        "elif (num2 >= num1) and (num2 >= num3):\n",
        "   largest = num2\n",
        "else:\n",
        "   largest = num3\n",
        "\n",
        "print(\"The largest number is\", largest)"
      ],
      "execution_count": 5,
      "outputs": [
        {
          "output_type": "stream",
          "text": [
            "Enter ist number: 23\n",
            "Enter 2nd number: 24\n",
            "Enter 3rd number: 56\n",
            "The largest number is 56\n"
          ],
          "name": "stdout"
        }
      ]
    },
    {
      "cell_type": "code",
      "metadata": {
        "id": "_LvVsw513scn"
      },
      "source": [
        "2"
      ],
      "execution_count": null,
      "outputs": []
    }
  ]
}